{
 "cells": [
  {
   "cell_type": "code",
   "execution_count": 1,
   "metadata": {},
   "outputs": [],
   "source": [
    "# Câu 1 \n",
    "# Xây dựng một hệ thống quản lý thư viện đơn giản với các yêu cầu sau:\n",
    "# • Tạo class Book với các thuộc tính: title, author, isbn, status (available/borrowed)\n",
    "# • Tạo class Library để quản lý danh sách sách với các phương thức: \n",
    "# o add_book(): Thêm sách mới\n",
    "# o remove_book(): Xóa sách theo ISBN\n",
    "# o borrow_book(): Mượn sách\n",
    "# o return_book(): Trả sách\n",
    "# o display_books(): Hiển thị danh sách sách\n",
    "def display_library_menu():\n",
    "    print(\"\\n=== LIBRARY MANAGEMENT SYSTEM ===\")\n",
    "    print(\"1. Add new book\")\n",
    "    print(\"2. Remove book\")\n",
    "    print(\"3. Borrow book\")\n",
    "    print(\"4. Return book\")\n",
    "    print(\"5. Display all book\")\n",
    "    print(\"6. Search book by ISBN\")\n",
    "    print(\"7. Exit\\n\")\n",
    "    # return input(\"Enter your choice 1-7\")\n",
    "\n",
    "class Book:\n",
    "    def __init__(self, title, author, isbn):\n",
    "        self.title = title\n",
    "        self.author = author\n",
    "        self.isbn = isbn\n",
    "        self.status = 'available'\n",
    "    def display_book_information(self):\n",
    "        print(f\"\\n--- BOOK'S INFORMATION ---\")\n",
    "        print(f\"Title: {self.title}\")\n",
    "        print(f\"Author: {self.author}\")\n",
    "        print(f\"ISBN: {self.isbn}\")\n",
    "        print(f\"status: {self.status}\")\n",
    "        "
   ]
  },
  {
   "cell_type": "code",
   "execution_count": 2,
   "metadata": {},
   "outputs": [],
   "source": [
    "class Library:\n",
    "    # books = []\n",
    "    def __init__(self):\n",
    "        self.books = []\n",
    "    # add_book():\n",
    "    def add_book(self, book):\n",
    "        if book not in self.books:\n",
    "            self.books.append(book)\n",
    "            print(\"\\nAdd successfull\")\n",
    "        else:\n",
    "            print(\"\\nFail !!\")\n",
    "    # remove_book()\n",
    "    def remove_book(self, isbn):\n",
    "        for book in self.books:\n",
    "            if book.isbn == isbn:\n",
    "                self.books.remove(book)\n",
    "                print(\"\\nRemove successfull\")\n",
    "            else:\n",
    "                print(\"\\nFail !!\")\n",
    "    # borrow_book()\n",
    "    def borrow_book(self, isbn):\n",
    "        for book in self.books:\n",
    "            if book.isbn == isbn and book.status == 'available':\n",
    "                book.status = 'borrowed'\n",
    "                print(\"\\nBorrowed successfull\")\n",
    "            else:\n",
    "                print(\"\\nBook has been borrowed\")\n",
    "    # return_book()\n",
    "    def return_book(self, isbn):\n",
    "        for book in self.books:\n",
    "            if book.isbn == isbn and book.status == 'borrowed':\n",
    "                book.status = 'available'\n",
    "                print(\"\\nReturned successfull\")\n",
    "            else:\n",
    "                print(\"\\nBook has been returned\")\n",
    "    # search_book()\n",
    "    def search_book(self, isbn):\n",
    "        for book in self.books:\n",
    "            if  book.isbn == isbn:\n",
    "                print(book)\n",
    "                book.display_book_information()\n",
    "            else:\n",
    "                print(\"\\nNothing here\")\n",
    "    # display_books()\n",
    "    def display_books(self):\n",
    "        if not self.books:\n",
    "            print(\"Nothing here\")\n",
    "        else:\n",
    "            for book in self.books:\n",
    "                print(book)\n",
    "                book.display_book_information()"
   ]
  },
  {
   "cell_type": "code",
   "execution_count": 1,
   "metadata": {},
   "outputs": [
    {
     "ename": "NameError",
     "evalue": "name 'Library' is not defined",
     "output_type": "error",
     "traceback": [
      "\u001b[1;31m---------------------------------------------------------------------------\u001b[0m",
      "\u001b[1;31mNameError\u001b[0m                                 Traceback (most recent call last)",
      "\u001b[1;32m<ipython-input-1-826f5c006d17>\u001b[0m in \u001b[0;36m<module>\u001b[1;34m\u001b[0m\n\u001b[1;32m----> 1\u001b[1;33m \u001b[0mlibrary\u001b[0m \u001b[1;33m=\u001b[0m \u001b[0mLibrary\u001b[0m\u001b[1;33m(\u001b[0m\u001b[1;33m)\u001b[0m\u001b[1;33m\u001b[0m\u001b[1;33m\u001b[0m\u001b[0m\n\u001b[0m\u001b[0;32m      2\u001b[0m \u001b[1;32mwhile\u001b[0m \u001b[1;32mTrue\u001b[0m\u001b[1;33m:\u001b[0m\u001b[1;33m\u001b[0m\u001b[1;33m\u001b[0m\u001b[0m\n\u001b[0;32m      3\u001b[0m     \u001b[0mdisplay_library_menu\u001b[0m\u001b[1;33m(\u001b[0m\u001b[1;33m)\u001b[0m\u001b[1;33m\u001b[0m\u001b[1;33m\u001b[0m\u001b[0m\n\u001b[0;32m      4\u001b[0m     \u001b[0mn\u001b[0m \u001b[1;33m=\u001b[0m \u001b[0mint\u001b[0m\u001b[1;33m(\u001b[0m\u001b[0minput\u001b[0m\u001b[1;33m(\u001b[0m\u001b[1;34m\"Enter your choice 1-7\"\u001b[0m\u001b[1;33m)\u001b[0m\u001b[1;33m)\u001b[0m\u001b[1;33m\u001b[0m\u001b[1;33m\u001b[0m\u001b[0m\n\u001b[0;32m      5\u001b[0m     \u001b[1;32mif\u001b[0m \u001b[0mn\u001b[0m \u001b[1;33m==\u001b[0m \u001b[1;36m1\u001b[0m\u001b[1;33m:\u001b[0m\u001b[1;33m\u001b[0m\u001b[1;33m\u001b[0m\u001b[0m\n",
      "\u001b[1;31mNameError\u001b[0m: name 'Library' is not defined"
     ]
    }
   ],
   "source": [
    "library = Library()\n",
    "while True:\n",
    "    display_library_menu()\n",
    "    n = int(input(\"Enter your choice 1-7\"))\n",
    "    if n == 1:\n",
    "        title = input(\"Title\")\n",
    "        author = input(\"Author\")\n",
    "        isbn = input(\"ISBN\")\n",
    "        library.add_book(Book(title, author, isbn))\n",
    "    elif n == 2:\n",
    "        isbn = input(\"ISBN\")\n",
    "        library.remove_book(isbn)\n",
    "    elif n == 3:\n",
    "        isbn = input(\"ISBN\")\n",
    "        library.borrow_book(isbn)\n",
    "    elif n == 4:\n",
    "        isbn = input(\"ISBN\")\n",
    "        library.return_book(isbn)\n",
    "    elif n == 5:\n",
    "        library.display_books()\n",
    "    elif n == 6:\n",
    "        isbn = input(\"ISBN\")\n",
    "        library.search_book(isbn)\n",
    "    elif n == 7:\n",
    "        break\n",
    "        "
   ]
  },
  {
   "cell_type": "code",
   "execution_count": 2,
   "metadata": {},
   "outputs": [
    {
     "name": "stdout",
     "output_type": "stream",
     "text": [
      "Hello, World!\n"
     ]
    }
   ],
   "source": [
    "def main():\n",
    "    print(\"Hello, World!\")\n",
    "\n",
    "if __name__ == '__main__':\n",
    "    main()"
   ]
  },
  {
   "cell_type": "code",
   "execution_count": null,
   "metadata": {},
   "outputs": [],
   "source": []
  }
 ],
 "metadata": {
  "kernelspec": {
   "display_name": "base",
   "language": "python",
   "name": "python3"
  },
  "language_info": {
   "codemirror_mode": {
    "name": "ipython",
    "version": 3
   },
   "file_extension": ".py",
   "mimetype": "text/x-python",
   "name": "python",
   "nbconvert_exporter": "python",
   "pygments_lexer": "ipython3",
   "version": "3.7.1"
  }
 },
 "nbformat": 4,
 "nbformat_minor": 2
}
