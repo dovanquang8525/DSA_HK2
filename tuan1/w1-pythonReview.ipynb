{
 "cells": [
  {
   "cell_type": "code",
   "execution_count": null,
   "metadata": {},
   "outputs": [
    {
     "name": "stdout",
     "output_type": "stream",
     "text": [
      "answer =  1.0\n"
     ]
    }
   ],
   "source": [
    "# 1. Viết chương trình nhập vào 3 số tính trung bình\n",
    "a = int(input())\n",
    "b = int(input())\n",
    "c = int(input())\n",
    "avg = (a+b+c)/3\n",
    "print(\"answer =\",avg)"
   ]
  },
  {
   "cell_type": "code",
   "execution_count": null,
   "metadata": {},
   "outputs": [
    {
     "name": "stdout",
     "output_type": "stream",
     "text": [
      "[1, 2, 4, 6, 8]\n",
      "Cac so nguyen to\n",
      "2\n"
     ]
    }
   ],
   "source": [
    "# 2. Cho phép người dùng nhập vào danh sách phần tử. \n",
    "# Viết chương trình in ra các số nguyên tố \n",
    "def is_prime(n):\n",
    "    if n<=1:\n",
    "        return False\n",
    "    for i in range(2,n):\n",
    "        if n%i == 0:\n",
    "            return False\n",
    "    return True\n",
    "\n",
    "n = int(input())\n",
    "lst = []\n",
    "\n",
    "for i in range(n):\n",
    "    num = int(input())\n",
    "    lst.append(num)\n",
    "print(lst)\n",
    "print(\"Cac so nguyen to\")\n",
    "for a in lst:\n",
    "    if is_prime(a):\n",
    "        print(a)"
   ]
  },
  {
   "cell_type": "code",
   "execution_count": null,
   "metadata": {},
   "outputs": [
    {
     "name": "stdout",
     "output_type": "stream",
     "text": [
      "1\n",
      "9\n",
      "4\n"
     ]
    }
   ],
   "source": [
    "# 3. Cho danh sách my_lst = [1,3,5,7,8,9,2,4]. \n",
    "# Viết chương trình in ra các số chính phương\n",
    "import math\n",
    "my_lst = [1,3,5,7,8,9,2,4]\n",
    "def is_square(n):\n",
    "    if int(math.sqrt(n))**2 == n:\n",
    "        return True\n",
    "    return False\n",
    "for i in my_lst:\n",
    "    if is_square(i):\n",
    "        print(i)\n",
    "        \n",
    "# cach 2\n"
   ]
  },
  {
   "cell_type": "code",
   "execution_count": 3,
   "metadata": {},
   "outputs": [
    {
     "name": "stdout",
     "output_type": "stream",
     "text": [
      "asd\n"
     ]
    }
   ],
   "source": [
    "# 4. Viết chương trình đảo ngược 1 chuỗi. \n",
    "# Ex:  \n",
    "# - input: hiền \n",
    "# - output: nềih \n",
    "lst = input()\n",
    "lst = lst[::-1]\n",
    "print(lst)"
   ]
  },
  {
   "cell_type": "code",
   "execution_count": 4,
   "metadata": {},
   "outputs": [
    {
     "name": "stdout",
     "output_type": "stream",
     "text": [
      "2 so be nhat la: 1, 2\n"
     ]
    }
   ],
   "source": [
    "# 5. Viết chương trình tìm 2 số bé nhất trong danh sách\n",
    "values = []\n",
    "n = int(input(\"nhap n: \"))\n",
    "\n",
    "for i in range(n):\n",
    "    so = int(input())\n",
    "    values.append(so)\n",
    "\n",
    "minn = values[0]\n",
    "\n",
    "for i in values:\n",
    "    if minn > i:\n",
    "        minn = i\n",
    "\n",
    "print(f\"2 so be nhat la: {values[0]}, {values[1]}\")"
   ]
  },
  {
   "cell_type": "code",
   "execution_count": 21,
   "metadata": {},
   "outputs": [
    {
     "name": "stdout",
     "output_type": "stream",
     "text": [
      "[88]\n",
      "1\n"
     ]
    }
   ],
   "source": [
    "# 6. Viết chương trình tìm vị trí số lớn nhất trong danh sách và kèm theo số lượng \n",
    "# Ex: my_lst = [9,1,3,5,7,8,9,2,4] \n",
    "# output: \n",
    "# - vị trí số lớn nhất là 0,5 \n",
    "# - Số lượng số lớn nhất là 2 \n",
    "lst = []\n",
    "n = int(input(\"n = \"))\n",
    "count = 0\n",
    "maxOfList = []\n",
    "for i in range(n):\n",
    "    so = int(input())\n",
    "    lst.append(so)\n",
    "\n",
    "for i in lst:\n",
    "    if i == max(lst):\n",
    "        count += 1\n",
    "        maxOfList.append(i)\n",
    "\n",
    "print(maxOfList)\n",
    "print(count)"
   ]
  },
  {
   "cell_type": "code",
   "execution_count": 27,
   "metadata": {},
   "outputs": [
    {
     "data": {
      "text/plain": [
       "'Nguyen Van A - 20 tuoi - Diem: 8.5'"
      ]
     },
     "execution_count": 27,
     "metadata": {},
     "output_type": "execute_result"
    }
   ],
   "source": [
    "# 7. Viết chương trình đọc vào file txt và hiển thị nội dung trong file\n",
    "f = open(\"myfile.txt\", \"r\")\n",
    "f.read()"
   ]
  },
  {
   "cell_type": "code",
   "execution_count": 26,
   "metadata": {},
   "outputs": [],
   "source": [
    "# 8. Viết chương trình cho phép người dùng nhập thông tin sinh viên (họ tên, tuổi, điểm) và ghi vào file text. \n",
    "# Mỗi sinh viên ghi trên một dòng. \n",
    "# Ex:\n",
    "# - Input: Nguyễn Văn A, 20, 8.5\n",
    "# - File sẽ lưu: Nguyễn Văn A - 20 tuổi - Điểm: 8.5\n",
    "ten = input(\"Nhap ten: \")\n",
    "tuoi = int(input(\"Nhap tuoi: \"))\n",
    "diem = float(input(\"Nhap diem: \"))\n",
    "\n",
    "# tao file\n",
    "# file = open(\"E:\\Cấu trúc dữ liệu và giải thuật trong Pyhton_DSA\\myfile.txt\", \"x\")\n",
    "\n",
    "# r+ : read and write \n",
    "file = open(\"E:\\Cấu trúc dữ liệu và giải thuật trong Pyhton_DSA\\myfile.txt\", \"r+\")\n",
    "file.write(f\"{ten} - {tuoi} tuoi - Diem: {diem}\")\n",
    "file.close()"
   ]
  },
  {
   "cell_type": "code",
   "execution_count": 56,
   "metadata": {},
   "outputs": [
    {
     "name": "stdout",
     "output_type": "stream",
     "text": [
      "tong so 2: 3\n",
      "[1, 2, 3, 2, 4, 2, 5, 6]\n",
      "(1, 5)\n"
     ]
    }
   ],
   "source": [
    "# 9. Cho tuple sau: numbers = (1, 2, 3, 2, 4, 2, 5). Viết chương trình:\n",
    "# • Đếm số lần xuất hiện của số 2\n",
    "# • Chuyển tuple thành list và thêm số 6 vào cuối\n",
    "# • In ra phần tử đầu tiên và cuối cùng của tuple\n",
    "\n",
    "numbers = (1, 2, 3, 2, 4, 2, 5)\n",
    "count = 0\n",
    "for i in numbers:\n",
    "    if i == 2:\n",
    "        count+=1\n",
    "print(f\"tong so 2: {count}\")\n",
    "\n",
    "lst = list(numbers)\n",
    "lst.append(6)\n",
    "print(lst)\n",
    "\n",
    "print(numbers[::6])"
   ]
  },
  {
   "cell_type": "code",
   "execution_count": 31,
   "metadata": {},
   "outputs": [
    {
     "name": "stdout",
     "output_type": "stream",
     "text": [
      "Quoc gia: Viet Nam va Thu do: Ha Noi da duoc them vao dictionary\n",
      "\n",
      "Danh sach cac quoc gia va thu do\n",
      "-Quoc gia : Viet Nam\n",
      "-Thu do : Ha Noi\n",
      "Thu do cua Viet Nam la Ha Noi\n",
      "\n",
      "Loi khong xoa dc\n",
      "\n",
      "Danh sach cac quoc gia va thu do\n",
      "-Quoc gia : Viet Nam\n",
      "-Thu do : Ha Noi\n"
     ]
    }
   ],
   "source": [
    "# 10. Tạo dictionary lưu thông tin về các quốc gia và thủ đô.\n",
    "# Viết chương trình cho phép:\n",
    "# • Thêm cặp quốc gia - thủ đô mới\n",
    "# • Tìm kiếm thủ đô khi nhập tên quốc gia\n",
    "# • Xóa một quốc gia khỏi dictionary\n",
    "# • Hiển thị tất cả quốc gia và thủ đô\n",
    "\n",
    "my_dict = {}\n",
    "# • Thêm cặp quốc gia - thủ đô mới\n",
    "def add_in_dict():\n",
    "    n = int(input(\"Nhap n: \"))\n",
    "    for i in range(n):\n",
    "        quocgia = input(\"Nhap quoc gia\")\n",
    "        thudo = input(\"Nhap thu do\")\n",
    "        my_dict[quocgia] = thudo\n",
    "        print(f\"Quoc gia: {quocgia} va Thu do: {thudo} da duoc them vao dictionary\\n\")\n",
    "# • Tìm kiếm thủ đô khi nhập tên quốc gia\n",
    "def search_thudo():\n",
    "    quocgia = input(\"Nhap quoc gia can tim\")\n",
    "    if quocgia in my_dict:\n",
    "        print(f\"Thu do cua {quocgia} la {my_dict[quocgia]}\\n\")\n",
    "    else:\n",
    "        print(f\"Loi\\n\")\n",
    "# • Xóa một quốc gia khỏi dictionary\n",
    "def delete_quocgia():\n",
    "    quocgia = input(\"Nhap quoc gia can xoa\")\n",
    "    if quocgia in my_dict:\n",
    "        del my_dict[quocgia]\n",
    "    else:\n",
    "        print(\"Loi khong xoa dc\\n\")\n",
    "# • Hiển thị tất cả quốc gia và thủ đô\n",
    "def inThongTin():\n",
    "    print(\"Danh sach cac quoc gia va thu do\")\n",
    "    for key, value in my_dict.items():\n",
    "        print(f\"-Quoc gia : {key}\\n-Thu do : {value}\")\n",
    "# -------------------------------------- #\n",
    "add_in_dict()\n",
    "inThongTin()\n",
    "\n",
    "search_thudo()\n",
    "\n",
    "delete_quocgia()\n",
    "inThongTin()"
   ]
  },
  {
   "cell_type": "code",
   "execution_count": 2,
   "metadata": {},
   "outputs": [
    {
     "name": "stdout",
     "output_type": "stream",
     "text": [
      "Vui lòng nhập số!\n",
      "Vui lòng nhập số nguyên dương!\n",
      "So ban da nhap: 3\n"
     ]
    }
   ],
   "source": [
    "# 11. Viết chương trình yêu cầu người dùng \n",
    "# nhập số nguyên dương n và xử lý các trường hợp ngoại lệ:\n",
    "# • Nếu người dùng nhập chữ thay vì số\n",
    "# • Nếu người dùng nhập số âm\n",
    "# • In ra thông báo lỗi phù hợp và yêu cầu nhập lại \n",
    "# Ex1:\n",
    "# - Input: abc\n",
    "# - Output: Vui lòng nhập số!\n",
    "# Ex2:\n",
    "# - Input: -5\n",
    "# - Output: Vui lòng nhập số nguyên dương!\n",
    "while True:\n",
    "    try:\n",
    "        n = int(input(\"Nhập số nguyên dương: \"))\n",
    "        if n < 0:\n",
    "            print(\"Vui lòng nhập số nguyên dương!\")\n",
    "        else:\n",
    "            print(f\"So ban da nhap: {n}\")\n",
    "            break\n",
    "    except ValueError:\n",
    "        print(\"Vui lòng nhập số!\")\n"
   ]
  }
 ],
 "metadata": {
  "kernelspec": {
   "display_name": "base",
   "language": "python",
   "name": "python3"
  },
  "language_info": {
   "codemirror_mode": {
    "name": "ipython",
    "version": 3
   },
   "file_extension": ".py",
   "mimetype": "text/x-python",
   "name": "python",
   "nbconvert_exporter": "python",
   "pygments_lexer": "ipython3",
   "version": "3.7.1"
  }
 },
 "nbformat": 4,
 "nbformat_minor": 2
}
